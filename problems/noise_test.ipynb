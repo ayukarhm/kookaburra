{
 "cells": [
  {
   "cell_type": "markdown",
   "metadata": {},
   "source": [
    "# Langevin Noise Test"
   ]
  },
  {
   "cell_type": "markdown",
   "metadata": {},
   "source": [
    "This is data for Langevin noise test based on the input file CN_test_0deg_video.i\n",
    "\n",
    "- The parameter \"amplitude\" in the block conserved_langevin is varied as described below. Based on the data in csv files, it is shown that the nucleation of each variation started at the following:\n",
    "\n",
    "noise type |noise amplitude |time          |area_eta_m   |area_eta_v |fluence\n",
    "-----------|----------------|--------------|-------------|-----------|------- \n",
    "ori        |1e-5            |331.875       |14399.4375   |0.5625     |479\n",
    "*noise1*   |25e-5           |308.125       |14399.4375   |0.5625     |444\n",
    "noise2     |75e-5           |460.09375     |14399.71875  |0.28125    |689\n",
    "noise3     |50e-5           |393.2265625   |14399.859375 |0.140625   |590\n",
    "noise4     |15e-5           |309.375       |14399.71875  |0.28125    |442\n",
    "noise5     |35e-5           |310.25        |14399.578125 |0.421875   |440"
   ]
  },
  {
   "cell_type": "markdown",
   "metadata": {},
   "source": [
    "- From the data above, we can infer that parameter noise1 (25e-5) produced the earliest nucleation. Although, it is not quite spontaneous."
   ]
  },
  {
   "cell_type": "markdown",
   "metadata": {},
   "source": [
    "- Interestingly, a certain threshold may exist between noise4 (15e-5) and noise5 (35e-5), somewhere around noise1 (25e-5). Nevertheless, the threshold position is not exactly clear."
   ]
  }
 ],
 "metadata": {
  "kernelspec": {
   "display_name": "Python 3",
   "language": "python",
   "name": "python3"
  },
  "language_info": {
   "codemirror_mode": {
    "name": "ipython",
    "version": 3
   },
   "file_extension": ".py",
   "mimetype": "text/x-python",
   "name": "python",
   "nbconvert_exporter": "python",
   "pygments_lexer": "ipython3",
   "version": "3.7.6"
  }
 },
 "nbformat": 4,
 "nbformat_minor": 4
}
